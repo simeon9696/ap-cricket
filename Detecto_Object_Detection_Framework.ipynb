{
  "nbformat": 4,
  "nbformat_minor": 0,
  "metadata": {
    "colab": {
      "name": "Detecto Object Detection Framework.ipynb",
      "provenance": [],
      "collapsed_sections": [],
      "toc_visible": true,
      "include_colab_link": true
    },
    "kernelspec": {
      "name": "python3",
      "display_name": "Python 3"
    },
    "accelerator": "GPU"
  },
  "cells": [
    {
      "cell_type": "markdown",
      "metadata": {
        "id": "view-in-github",
        "colab_type": "text"
      },
      "source": [
        "<a href=\"https://colab.research.google.com/github/simeon9696/ap-cricket/blob/master/Detecto_Object_Detection_Framework.ipynb\" target=\"_parent\"><img src=\"https://colab.research.google.com/assets/colab-badge.svg\" alt=\"Open In Colab\"/></a>"
      ]
    },
    {
      "cell_type": "markdown",
      "metadata": {
        "id": "ogJXI16Hd3OC",
        "colab_type": "text"
      },
      "source": [
        "# Detecto Object Detection Framework \n",
        "\n",
        "[Detecto](https://github.com/alankbi/detecto) is a Python package that allows you to build fully-functioning computer vision and object detection models with just 5 lines of code. Inference on still images and videos, transfer learning on custom datasets, and serialization of models to files are just a few of Detecto's features. Detecto is also built on top of PyTorch, allowing an easy transfer of models between the two libraries.\n",
        "\n",
        "This notebook deals with training an object detection model to identify bats and stumps within a cricket match. \n",
        "\n",
        "# What's the workflow? \n",
        "\n",
        "\n",
        "1.   Split dataset into two portions. 80% testing and 20% validation\n",
        "2.   Label the objects in the images and store them separately in PASCAL VOC format. [LabelImg](https://github.com/tzutalin/labelImg) is a great tool for this.\n",
        "3.   Create a folder in the root of the directory called training and then two folders inside of training called images and labels and populate them accordingly\n",
        "4. Repeat step 3 for a folder called `validation` \n",
        "5. Install the dependencies listed below\n",
        "6. Run `train_obj_model.py` to train the model and `obj_detection.py` to use it\n",
        "\n",
        "\n",
        "\n",
        "# Note\n",
        "**If you're using the repository ap-cricket**. Steps 1-4 have already been completed and the cells below are ready to run without any further intervention. More detail can be found in the comments in the `.py` files\n",
        "\n",
        "# Folder structure\n",
        "The folder structure for the dataset setup should look like below\n",
        "```\n",
        "ap-cricket/\n",
        "├── training/\n",
        "│   ├── images/\n",
        "│   │   └── image-1.jpg\n",
        "│   └── labels/\n",
        "│       └── image-1.xml\n",
        "└── validation/\n",
        "│   ├── images/\n",
        "│   │   └── image-1.jpg\n",
        "│   └── labels/\n",
        "│       └── image-1.xml\n",
        "```\n",
        "The model data will be generated in `model/` at the root directory\n",
        "\n"
      ]
    },
    {
      "cell_type": "code",
      "metadata": {
        "id": "kiAfUj4OhQ-l",
        "colab_type": "code",
        "colab": {
          "base_uri": "https://localhost:8080/",
          "height": 34
        },
        "outputId": "3108059c-5ac4-4fea-8fbd-b20c265b41a6"
      },
      "source": [
        "! rm -r ap-cricket # This will fail on first run. Use to clear out the cloned repository for fresh start\n",
        "! git clone -q https://github.com/simeon9696/ap-cricket.git # Using -q to avoid unnecessary output"
      ],
      "execution_count": 1,
      "outputs": [
        {
          "output_type": "stream",
          "text": [
            "rm: cannot remove 'ap-cricket': No such file or directory\n"
          ],
          "name": "stdout"
        }
      ]
    },
    {
      "cell_type": "code",
      "metadata": {
        "id": "9mVGZ2CkhiUi",
        "colab_type": "code",
        "colab": {}
      },
      "source": [
        "# EXPECTED: ERROR: datascience 0.10.6 has requirement folium==0.2.1, but you'll have folium 0.8.3 which is incompatible.\n",
        "# It's fine\n",
        "\n",
        "! pip install opencv-python --quiet\n",
        "! pip install numpy --quiet\n",
        "! pip install matplotlib --quiet\n",
        "! pip install progress --quiet\n",
        "! pip install pytest-mocha --quiet\n",
        "! pip install torch==1.4.0 torchvision==0.5.0 --quiet\n",
        "! pip install detecto --quiet"
      ],
      "execution_count": null,
      "outputs": [
        {
          "output_type": "error",
          "ename": "Error",
          "evalue": "Jupyter cannot be started. Error attempting to locate jupyter: Data Science libraries jupyter and notebook are not installed in interpreter Python 3.8.3 64-bit.",
          "traceback": [
            "Error: Jupyter cannot be started. Error attempting to locate jupyter: Data Science libraries jupyter and notebook are not installed in interpreter Python 3.8.3 64-bit.",
            "at b.startServer (c:\\Users\\julis\\.vscode\\extensions\\ms-python.python-2020.8.109390\\out\\client\\extension.js:56:315241)",
            "at runMicrotasks (<anonymous>)",
            "at processTicksAndRejections (internal/process/task_queues.js:94:5)",
            "at b.createServer (c:\\Users\\julis\\.vscode\\extensions\\ms-python.python-2020.8.109390\\out\\client\\extension.js:56:314683)",
            "at connect (c:\\Users\\julis\\.vscode\\extensions\\ms-python.python-2020.8.109390\\out\\client\\extension.js:56:442783)",
            "at f.ensureConnectionAndNotebookImpl (c:\\Users\\julis\\.vscode\\extensions\\ms-python.python-2020.8.109390\\out\\client\\extension.js:32:91466)",
            "at f.ensureConnectionAndNotebook (c:\\Users\\julis\\.vscode\\extensions\\ms-python.python-2020.8.109390\\out\\client\\extension.js:32:90768)",
            "at f.clearResult (c:\\Users\\julis\\.vscode\\extensions\\ms-python.python-2020.8.109390\\out\\client\\extension.js:32:86570)",
            "at f.reexecuteCell (c:\\Users\\julis\\.vscode\\extensions\\ms-python.python-2020.8.109390\\out\\client\\extension.js:9:123891)",
            "at f.reexecuteCells (c:\\Users\\julis\\.vscode\\extensions\\ms-python.python-2020.8.109390\\out\\client\\extension.js:9:120414)"
          ]
        }
      ]
    },
    {
      "cell_type": "code",
      "metadata": {
        "id": "Y4SFbf3HiS5V",
        "colab_type": "code",
        "colab": {}
      },
      "source": [
        "# Train the model! Default is 15 epochs and takes about an hour. \n",
        "# Don't let Colab timeout!\n",
        "! python3 /content/ap-cricket/functions/train_obj_model.py\n"
      ],
      "execution_count": null,
      "outputs": []
    },
    {
      "cell_type": "markdown",
      "metadata": {
        "id": "PdeRnQi12_d-",
        "colab_type": "text"
      },
      "source": [
        "The folder structure should now look like below. If it does not, refresh the file list. \n",
        "\n",
        "![output.png](data:image/png;base64,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)"
      ]
    },
    {
      "cell_type": "code",
      "metadata": {
        "id": "2s_QkEmHwO_D",
        "colab_type": "code",
        "colab": {}
      },
      "source": [
        "# Use the trained model on a fresh image it's never seen before located in testing/\n",
        "# Sometimes the plot may not show\n",
        "# In that case you can clone the repo on your local machine\n",
        "# download modeldata.zip, extract it to model/ and run the same script below on your local machine\n",
        "! python3 /content/ap-cricket/functions/obj_detection.py"
      ],
      "execution_count": null,
      "outputs": []
    }
  ]
}